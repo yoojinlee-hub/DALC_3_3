{
  "nbformat": 4,
  "nbformat_minor": 0,
  "metadata": {
    "colab": {
      "name": "Untitled11.ipynb",
      "provenance": [],
      "collapsed_sections": []
    },
    "kernelspec": {
      "name": "python3",
      "display_name": "Python 3"
    },
    "language_info": {
      "name": "python"
    }
  },
  "cells": [
    {
      "cell_type": "code",
      "execution_count": null,
      "metadata": {
        "id": "qkJ4uyyF8J5D"
      },
      "outputs": [],
      "source": [
        "!pip install gensim"
      ]
    },
    {
      "cell_type": "code",
      "source": [
        "!pip install KoNLPy"
      ],
      "metadata": {
        "id": "mUsXkRWoMkiq"
      },
      "execution_count": null,
      "outputs": []
    },
    {
      "cell_type": "code",
      "source": [
        "import pandas as pd\n",
        "import numpy as np\n",
        "import re\n",
        "import seaborn as sns\n",
        "import matplotlib.pyplot as plt\n",
        "from konlpy.tag import Komoran"
      ],
      "metadata": {
        "id": "OMBTb3BdMnCh"
      },
      "execution_count": null,
      "outputs": []
    },
    {
      "cell_type": "code",
      "source": [
        "'''\n",
        "https://inahjeon.dev/fasttext/  - 참고용 사이트\n",
        "https://fasttext.cc/docs/en/crawl-vectors.html   - pretrained model 파일 다운받기\n",
        "'''"
      ],
      "metadata": {
        "id": "pRNYmuZbM-Uq"
      },
      "execution_count": null,
      "outputs": []
    },
    {
      "cell_type": "code",
      "source": [
        "from gensim import models\n",
        "#pretrained된 한국어 언어모델 생성 from Facebook\n",
        "ko_model = models.fasttext.load_facebook_model('cc.ko.300.bin')"
      ],
      "metadata": {
        "id": "BbreIemuMpbl"
      },
      "execution_count": null,
      "outputs": []
    },
    {
      "cell_type": "code",
      "source": [
        "#해당 단어와 가장 유사한 10개의 단어 추출\n",
        "for w, sim in m_fasttext.similar_by_word('단어', 10):\n",
        "    print(f'{w}: {sim}')\n",
        "\n",
        "#두 개의 단어의 유사도를 출력\n",
        "print(m_fasttext.similarity('단어1', '단어2'))"
      ],
      "metadata": {
        "id": "L3ygS-d9Mswd"
      },
      "execution_count": null,
      "outputs": []
    }
  ]
}